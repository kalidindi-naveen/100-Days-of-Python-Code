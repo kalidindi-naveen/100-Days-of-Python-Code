{
 "cells": [
  {
   "cell_type": "code",
   "execution_count": 8,
   "metadata": {},
   "outputs": [
    {
     "name": "stdout",
     "output_type": "stream",
     "text": [
      "Welcome to Password Generator\n"
     ]
    },
    {
     "name": "stdout",
     "output_type": "stream",
     "text": [
      "ByG$!#$&%548574\n"
     ]
    }
   ],
   "source": [
    "import random\n",
    "print(\"Welcome to Password Generator\")\n",
    "length=int(input(\"How many letters would you like in your password\"))\n",
    "symbols=int(input(\"How many symbols would you like in your password\"))\n",
    "numbers=int(input(\"How many numbers would you like in your password\"))\n",
    "\n",
    "abc=[\"A\",\"B\",\"C\",\"D\",\"E\",\"F\",\"G\",\"H\",\"I\",\"J\",\"K\",\"L\",\"M\",\"N\",\"O\",\"P\",\"Q\",\"R\",\"S\",\"T\",\"U\",\"V\",\"W\",\"X\",\"Y\",\"Z\",\"a\",\"b\",\"c\",\"d\",\"e\",\"f\",\"g\",\"h\",\"i\",\"j\",\"k\",\"l\",\"m\",\"n\",\"o\",\"p\",\"q\",\"r\",\"s\",\"t\",\"u\",\"v\",\"w\",\"x\",\"y\",\"z\"]\n",
    "special=[\"$\",\"@\",\"!\",\"#\",\"$\",\"%\",\"^\",\"&\",\"*\"]\n",
    "password_length=length+symbols+numbers\n",
    "password=\"\"\n",
    "for j in range(length):\n",
    "    password+=abc[random.randint(0,len(abc)-1)]\n",
    "for k in range(symbols):\n",
    "    password+=special[random.randint(0,len(special)-1)]\n",
    "for l in range(numbers):\n",
    "    password+=str(random.randint(0,9))\n",
    "print(password)"
   ]
  }
 ],
 "metadata": {
  "kernelspec": {
   "display_name": "Python 3",
   "language": "python",
   "name": "python3"
  },
  "language_info": {
   "codemirror_mode": {
    "name": "ipython",
    "version": 3
   },
   "file_extension": ".py",
   "mimetype": "text/x-python",
   "name": "python",
   "nbconvert_exporter": "python",
   "pygments_lexer": "ipython3",
   "version": "3.11.4"
  }
 },
 "nbformat": 4,
 "nbformat_minor": 2
}
