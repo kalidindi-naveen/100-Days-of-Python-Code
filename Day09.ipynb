{
 "cells": [
  {
   "cell_type": "code",
   "execution_count": 7,
   "metadata": {},
   "outputs": [
    {
     "name": "stdout",
     "output_type": "stream",
     "text": [
      "\n",
      "                         ___________\n",
      "                         \\         /\n",
      "                          )_______(\n",
      "                          |\"\"\"\"\"\"\"|_.-._,.---------.,_.-._\n",
      "                          |       | | |               | | ''-.\n",
      "                          |       |_| |_             _| |_..-'\n",
      "                          |_______| '-' `'---------'` '-'\n",
      "                          )\"\"\"\"\"\"\"(\n",
      "                         /_________                         `'-------'`\n",
      "                       .-------------.\n",
      "                      /_______________\n",
      "Welcome to the secret auction program!\n",
      "What is your name?\n",
      "What's your bid?\n",
      "Are there any other bidders? Type 'yes' or 'no'\n",
      "What is your name?\n",
      "What's your bid?\n",
      "Are there any other bidders? Type 'yes' or 'no'\n",
      "{'naveen': 3345, 'neelu': 23}\n",
      "Bid was won by naveen with Bid Value: 3345\n"
     ]
    }
   ],
   "source": [
    "import auction_logo\n",
    "print(auction_logo.logo)\n",
    "print(\"Welcome to the secret auction program!\")\n",
    "\n",
    "start_bid=True\n",
    "dict={}\n",
    "while start_bid:\n",
    "  print(\"What is your name?\")\n",
    "  name=input().lower()\n",
    "  print(\"What's your bid?\")\n",
    "  bid_value=int(input())\n",
    "  dict[name]=bid_value\n",
    "  print(\"Are there any other bidders? Type 'yes' or 'no'\")\n",
    "  other_bidders=input().lower()\n",
    "  if other_bidders==\"no\":\n",
    "    start_bid=False\n",
    "\n",
    "max_key=\"\"\n",
    "max_value=0\n",
    "for key in dict:\n",
    "  if dict[key]>max_value:\n",
    "    max_value=dict[key]\n",
    "    max_key=key\n",
    "\n",
    "print(dict)\n",
    "print(f\"Bid was won by {max_key} with Bid Value: {max_value}\")\n"
   ]
  }
 ],
 "metadata": {
  "kernelspec": {
   "display_name": "Python 3",
   "language": "python",
   "name": "python3"
  },
  "language_info": {
   "codemirror_mode": {
    "name": "ipython",
    "version": 3
   },
   "file_extension": ".py",
   "mimetype": "text/x-python",
   "name": "python",
   "nbconvert_exporter": "python",
   "pygments_lexer": "ipython3",
   "version": "3.11.4"
  }
 },
 "nbformat": 4,
 "nbformat_minor": 2
}
