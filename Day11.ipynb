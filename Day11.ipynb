{
 "cells": [
  {
   "cell_type": "code",
   "execution_count": 24,
   "metadata": {},
   "outputs": [
    {
     "name": "stdout",
     "output_type": "stream",
     "text": [
      "Black Jack Game\n",
      "Do you want to play Black Jack Game? 'yes' or 'no'\n",
      "\n",
      " _     _            _    _            _    \n",
      "| |   | |          | |  (_)          | |   \n",
      "| |__ | | __ _  ___| | ___  __ _  ___| | __\n",
      "| '_ \\| |/ _` |/ __| |/ / |/ _` |/ __| |/ /\n",
      "| |_) | | (_| | (__|   <| | (_| | (__|   < \n",
      "|_.__/|_|\\__,_|\\___|_|\\_\\ |\\__,_|\\___|_|\\_                       _/ |                \n",
      "                      |__/      \n",
      "\n",
      "Your card's are ['k', 'k']\n",
      "Computer's first card is 7\n",
      "Type 'yes' to get anoter card, else 'no'\n",
      "Computer card's are [7, 5]\n",
      "USER WIN!!\n"
     ]
    }
   ],
   "source": [
    "from black_jack import logo\n",
    "from random import choice\n",
    "\n",
    "def pick_card():\n",
    "  cards=[2,3,4,5,6,7,8,9,10,'q','k','j','a']\n",
    "  return choice(cards)\n",
    "\n",
    "def sum_cards(cards):\n",
    "  result=0\n",
    "  for i in cards:\n",
    "    if i=='q' or i=='k' or i=='j':\n",
    "      result+=10\n",
    "    elif i=='a':\n",
    "      if result>21:\n",
    "        result+=1 \n",
    "      else:\n",
    "        result+=11\n",
    "    else:\n",
    "      result+=i\n",
    "  return result\n",
    "\n",
    "print(\"Black Jack Game\")\n",
    "\n",
    "print(\"Do you want to play Black Jack Game? 'yes' or 'no'\")\n",
    "start_game=input().lower()\n",
    "if start_game==\"yes\":\n",
    "  print(logo)\n",
    "  user_cards=[]\n",
    "  for i in range(2):\n",
    "    user_cards.append(pick_card())\n",
    "  \n",
    "  computer_cards=[]\n",
    "  for i in range(2):\n",
    "    computer_cards.append(pick_card())\n",
    "  \n",
    "  print(f\"Your card's are {user_cards}\")\n",
    "  user_cards_sum=sum_cards(user_cards)\n",
    "\n",
    "  print(f\"Computer's first card is {computer_cards[0]}\")\n",
    "  computer_cards_sum=sum_cards(computer_cards)\n",
    "\n",
    "  print(\"Type 'yes' to get anoter card, else 'no'\")\n",
    "  risk=input().lower()\n",
    "  if risk==\"yes\":\n",
    "    user_cards.append(pick_card())\n",
    "    print(f\"Your Cards are {user_cards}\")\n",
    "    user_cards_sum=sum_cards(user_cards)\n",
    "\n",
    "    if computer_cards_sum <17:\n",
    "      computer_cards.append(pick_card())\n",
    "    computer_cards_sum=sum_cards(computer_cards)\n",
    "\n",
    "  print(f\"Computer card's are {computer_cards}\")\n",
    "  \n",
    "  if user_cards_sum > 21:\n",
    "    print(\"Brust You Loose\")\n",
    "  elif user_cards_sum > computer_cards_sum:\n",
    "    print(\"USER WIN!!\")\n",
    "  elif user_cards_sum == computer_cards_sum:\n",
    "    print(\"DRAW GAME!!!\")\n",
    "  elif computer_cards_sum > user_cards_sum:\n",
    "    print(\"COMPUTER WIN!!\")\n",
    "  "
   ]
  }
 ],
 "metadata": {
  "kernelspec": {
   "display_name": "Python 3",
   "language": "python",
   "name": "python3"
  },
  "language_info": {
   "codemirror_mode": {
    "name": "ipython",
    "version": 3
   },
   "file_extension": ".py",
   "mimetype": "text/x-python",
   "name": "python",
   "nbconvert_exporter": "python",
   "pygments_lexer": "ipython3",
   "version": "3.11.4"
  }
 },
 "nbformat": 4,
 "nbformat_minor": 2
}
