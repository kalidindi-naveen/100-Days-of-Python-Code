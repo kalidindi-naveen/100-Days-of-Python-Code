{
 "cells": [
  {
   "cell_type": "code",
   "execution_count": 1,
   "metadata": {},
   "outputs": [
    {
     "name": "stdout",
     "output_type": "stream",
     "text": [
      "Welcome to Tip Calculator!\n",
      "Each person can pay : 27.89696\n"
     ]
    }
   ],
   "source": [
    "print(\"Welcome to Tip Calculator!\")\n",
    "bill=float(input(\"what total bill?\"))\n",
    "tip=int(input(\"How much percentage of tip 10,12,15 ?\"))\n",
    "share=int(input(\"How many people do you want to share bill ?\"))\n",
    "pay=float(bill+bill*(tip/100))/share\n",
    "print(\"Each person can pay :\",pay)"
   ]
  },
  {
   "cell_type": "code",
   "execution_count": 4,
   "metadata": {},
   "outputs": [
    {
     "name": "stdout",
     "output_type": "stream",
     "text": [
      "3\n"
     ]
    }
   ],
   "source": [
    "print(len(\"Hii\"))\n",
    "# print(len(12345)) # TypeError"
   ]
  },
  {
   "cell_type": "code",
   "execution_count": 20,
   "metadata": {},
   "outputs": [
    {
     "name": "stdout",
     "output_type": "stream",
     "text": [
      "H\n",
      "o\n",
      "olleH\n",
      "123123\n",
      "<class 'str'>\n"
     ]
    }
   ],
   "source": [
    "# DataTypes\n",
    "\n",
    "#String\n",
    "print(\"Hello\"[0])\n",
    "print(\"Hello\"[-1])\n",
    "print(\"Hello\"[::-1])\n",
    "# print(\"Hello\"[5]) #IndexError\n",
    "print(\"123\"+\"123\")\n",
    "print(type(\"123\"))"
   ]
  },
  {
   "cell_type": "code",
   "execution_count": 19,
   "metadata": {},
   "outputs": [
    {
     "name": "stdout",
     "output_type": "stream",
     "text": [
      "246\n",
      "123123\n",
      "246246\n",
      "<class 'int'>\n"
     ]
    }
   ],
   "source": [
    "# Integer\n",
    "\n",
    "print(123+123)\n",
    "print(123_123)\n",
    "print(123_123+123_123)\n",
    "print(type(123_123))"
   ]
  },
  {
   "cell_type": "code",
   "execution_count": 18,
   "metadata": {},
   "outputs": [
    {
     "name": "stdout",
     "output_type": "stream",
     "text": [
      "3.145\n",
      "<class 'float'>\n"
     ]
    }
   ],
   "source": [
    "# Float\n",
    "\n",
    "print(3.145)\n",
    "print(type(3.145))"
   ]
  },
  {
   "cell_type": "code",
   "execution_count": 22,
   "metadata": {},
   "outputs": [
    {
     "data": {
      "text/plain": [
       "True"
      ]
     },
     "execution_count": 22,
     "metadata": {},
     "output_type": "execute_result"
    }
   ],
   "source": [
    "# Boolean\n",
    "\n",
    "True\n",
    "print(type(False))"
   ]
  },
  {
   "cell_type": "code",
   "execution_count": 25,
   "metadata": {},
   "outputs": [
    {
     "name": "stdout",
     "output_type": "stream",
     "text": [
      "<class 'float'>\n",
      "2\n",
      "7.0\n"
     ]
    }
   ],
   "source": [
    "# Maths Operations \n",
    "# + - * / // % ** \n",
    "print(type(5/2))\n",
    "print(5//2)\n",
    "\n",
    "# BODMAS or PEMDAS\n",
    "# B - ()\n",
    "# O - **\n",
    "# D - /\n",
    "# M - *\n",
    "# A - +\n",
    "# S - -\n",
    "\n",
    "# Same priority -- * /, + - \n",
    "# whow to evaluate -- L2R\n",
    "# Ex: \n",
    "print(3*3+3/3-3) "
   ]
  },
  {
   "cell_type": "code",
   "execution_count": 27,
   "metadata": {},
   "outputs": [
    {
     "name": "stdout",
     "output_type": "stream",
     "text": [
      "BMI calculator\n",
      "BMI calculator results :: 25\n"
     ]
    }
   ],
   "source": [
    "print(\"BMI calculator\")\n",
    "weight=int(input(\"Enter Weight\"))\n",
    "height=float(input(\"Enter Height\"))\n",
    "BMI = weight/(height **2)\n",
    "print(\"BMI calculator results ::\",int(BMI))"
   ]
  },
  {
   "cell_type": "code",
   "execution_count": 28,
   "metadata": {},
   "outputs": [
    {
     "name": "stdout",
     "output_type": "stream",
     "text": [
      "2.67\n"
     ]
    }
   ],
   "source": [
    "print(round(2.666666,2))"
   ]
  },
  {
   "cell_type": "code",
   "execution_count": 30,
   "metadata": {},
   "outputs": [
    {
     "name": "stdout",
     "output_type": "stream",
     "text": [
      "your score is 25, your height is 1.75, chance of winning ? True\n"
     ]
    }
   ],
   "source": [
    "score=25\n",
    "height=1.75\n",
    "isWinning=True\n",
    "print(f\"your score is {score}, your height is {height}, chance of winning ? {isWinning}\")"
   ]
  },
  {
   "cell_type": "code",
   "execution_count": 31,
   "metadata": {},
   "outputs": [
    {
     "name": "stdout",
     "output_type": "stream",
     "text": [
      "Reamming weeks : 2548\n"
     ]
    }
   ],
   "source": [
    "age=int(input(\"Enter Age\"))\n",
    "years=90-age\n",
    "weeks=years*52\n",
    "print(f\"Reamming weeks : {weeks}\")"
   ]
  }
 ],
 "metadata": {
  "kernelspec": {
   "display_name": "Python 3",
   "language": "python",
   "name": "python3"
  },
  "language_info": {
   "codemirror_mode": {
    "name": "ipython",
    "version": 3
   },
   "file_extension": ".py",
   "mimetype": "text/x-python",
   "name": "python",
   "nbconvert_exporter": "python",
   "pygments_lexer": "ipython3",
   "version": "3.11.4"
  }
 },
 "nbformat": 4,
 "nbformat_minor": 2
}
