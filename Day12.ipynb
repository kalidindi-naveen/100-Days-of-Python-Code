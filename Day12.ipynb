{
 "cells": [
  {
   "cell_type": "code",
   "execution_count": null,
   "metadata": {},
   "outputs": [],
   "source": [
    "a=1 # globalScope\n",
    "def increase():\n",
    "  a=2 # localScope\n",
    "  print(f\"value of a: {a}\")\n",
    "\n",
    "increase()"
   ]
  },
  {
   "cell_type": "code",
   "execution_count": null,
   "metadata": {},
   "outputs": [],
   "source": [
    "a=1 \n",
    "def increase():\n",
    "  a=2 \n",
    "  print(f\"value of a: {a}\")\n",
    "\n",
    "increase()\n",
    "print(f\"value of a: {a}\")"
   ]
  },
  {
   "cell_type": "code",
   "execution_count": null,
   "metadata": {},
   "outputs": [],
   "source": [
    "a=1 \n",
    "def increase():\n",
    "  global a\n",
    "  a=2\n",
    "  print(f\"value of a: {a}\")\n",
    "\n",
    "increase()\n",
    "print(f\"value of a: {a}\")"
   ]
  },
  {
   "cell_type": "code",
   "execution_count": null,
   "metadata": {},
   "outputs": [],
   "source": [
    "a=1 \n",
    "def increase():\n",
    "  return a+1\n",
    "\n",
    "a=increase()\n",
    "print(f\"value of a: {a}\")"
   ]
  },
  {
   "cell_type": "code",
   "execution_count": null,
   "metadata": {},
   "outputs": [],
   "source": [
    "def bar():\n",
    "  a=9\n",
    "  if 16>9:\n",
    "    a=16\n",
    "  print(a)\n",
    "\n",
    "bar()"
   ]
  },
  {
   "cell_type": "code",
   "execution_count": 21,
   "metadata": {},
   "outputs": [
    {
     "name": "stdout",
     "output_type": "stream",
     "text": [
      "Welcome to the Number Guessing Game!!!\n",
      "I'm Thinking of a number between 1 and 100\n",
      "Choose a difficulty, 'easy' or 'medium' or 'hard'\n",
      "You are having 10 remaining to Guess Number\n",
      "Make a Guess?\n",
      "Your Guess:: 50 -- Too Low\n",
      "Guess Again\n",
      "You are having 9 remaining to Guess Number\n",
      "Make a Guess?\n",
      "Your Guess:: 75 -- Too Low\n",
      "Guess Again\n",
      "You are having 8 remaining to Guess Number\n",
      "Make a Guess?\n",
      "Your Guess:: 80 -- Too Low\n",
      "Guess Again\n",
      "You are having 7 remaining to Guess Number\n",
      "Make a Guess?\n",
      "Your Guess:: 90 -- Too Low\n",
      "Guess Again\n",
      "You are having 6 remaining to Guess Number\n",
      "Make a Guess?\n",
      "Your Guess:: 95 -- Too High\n",
      "Guess Again\n",
      "You are having 5 remaining to Guess Number\n",
      "Make a Guess?\n",
      "Your Guess:: 93 -- Too High\n",
      "Guess Again\n",
      "You are having 4 remaining to Guess Number\n",
      "Make a Guess?\n",
      "You Won!!\n",
      "Correct Guess\n",
      "Game Over!!!!!!!!!!\n"
     ]
    }
   ],
   "source": [
    "from random import randint\n",
    "print(\"Welcome to the Number Guessing Game!!!\")\n",
    "print(\"I'm Thinking of a number between 1 and 100\")\n",
    "computer_guess = randint(1,100)\n",
    "print(\"Choose a difficulty, 'easy' or 'medium' or 'hard'\")\n",
    "difficulty_level=input().lower()\n",
    "level={\n",
    "  'easy':10,\n",
    "  'medium':8,\n",
    "  'hard':5\n",
    "}\n",
    "\n",
    "chances=level[difficulty_level]\n",
    "\n",
    "while chances>0:\n",
    "  print(f\"You are having {chances} remaining to Guess Number\")\n",
    "  print(\"Make a Guess?\")\n",
    "  user_guess=int(input())\n",
    "  if user_guess > computer_guess:\n",
    "    print(f\"Your Guess:: {user_guess} -- Too High\")\n",
    "    print(\"Guess Again\")\n",
    "  elif computer_guess > user_guess:\n",
    "    print(f\"Your Guess:: {user_guess} -- Too Low\")\n",
    "    print(\"Guess Again\")\n",
    "  elif user_guess==computer_guess:\n",
    "    print(\"You Won!!\")\n",
    "    print(\"Correct Guess\")\n",
    "    break\n",
    "  chances-=1\n",
    "print(\"Game Over!!!!!!!!!!\")"
   ]
  },
  {
   "cell_type": "code",
   "execution_count": 2,
   "metadata": {},
   "outputs": [
    {
     "ename": "SyntaxError",
     "evalue": "invalid syntax (3654199347.py, line 1)",
     "output_type": "error",
     "traceback": [
      "\u001b[1;36m  Cell \u001b[1;32mIn[2], line 1\u001b[1;36m\u001b[0m\n\u001b[1;33m    if 1.8.3>=\"1.0.0\":\u001b[0m\n\u001b[1;37m          ^\u001b[0m\n\u001b[1;31mSyntaxError\u001b[0m\u001b[1;31m:\u001b[0m invalid syntax\n"
     ]
    }
   ],
   "source": [
    "if \"1.8.3\">=\"1.0.0\":\n",
    "  print(\"Hi\")"
   ]
  }
 ],
 "metadata": {
  "kernelspec": {
   "display_name": "Python 3",
   "language": "python",
   "name": "python3"
  },
  "language_info": {
   "codemirror_mode": {
    "name": "ipython",
    "version": 3
   },
   "file_extension": ".py",
   "mimetype": "text/x-python",
   "name": "python",
   "nbconvert_exporter": "python",
   "pygments_lexer": "ipython3",
   "version": "3.11.4"
  }
 },
 "nbformat": 4,
 "nbformat_minor": 2
}
