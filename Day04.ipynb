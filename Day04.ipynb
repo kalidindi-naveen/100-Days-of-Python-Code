{
 "cells": [
  {
   "cell_type": "code",
   "execution_count": 55,
   "metadata": {},
   "outputs": [
    {
     "name": "stdout",
     "output_type": "stream",
     "text": [
      "What do you choose ? 0-Rock, 1-Paper, 2-Scissor\n",
      "Your Choice: \n",
      "    _______\n",
      "---'    ____)____\n",
      "            _____)\n",
      "          _______)\n",
      "        _______)\n",
      "---.__________)\n",
      "    \n",
      "Computer Choice: 2 \n",
      "    _______\n",
      "---'   ____)____\n",
      "          ______)\n",
      "      __________)\n",
      "      (____)\n",
      "---.__(___)\n",
      "    \n",
      "Computer Win\n"
     ]
    }
   ],
   "source": [
    "import random\n",
    "print(\"What do you choose ? 0-Rock, 1-Paper, 2-Scissor\")\n",
    "rock='''\n",
    "    _______\n",
    "---'   ____)\n",
    "      (_____)\n",
    "      (_____)\n",
    "      (____)\n",
    "---.__(___)\n",
    "    '''\n",
    "paper='''\n",
    "    _______\n",
    "---'    ____)____\n",
    "            _____)\n",
    "          _______)\n",
    "        _______)\n",
    "---.__________)\n",
    "    '''\n",
    "scissors='''\n",
    "    _______\n",
    "---'   ____)____\n",
    "          ______)\n",
    "      __________)\n",
    "      (____)\n",
    "---.__(___)\n",
    "    '''\n",
    "l=[rock,paper,scissors]\n",
    "choice=int(input())\n",
    "computer_choice=random.randint(0,2)\n",
    "print(f\"Your Choice: {l[choice]}\")\n",
    "print(f\"Computer Choice: {computer_choice} {l[computer_choice]}\")\n",
    "if choice==computer_choice:\n",
    "  print(\"Both Selected Same Choice, Draw Match\")\n",
    "elif choice==0 and computer_choice==2:\n",
    "  print(\"You Win\")\n",
    "elif computer_choice==0 and choice==2:\n",
    "  print(\"Computer win\")\n",
    "elif choice>computer_choice:\n",
    "  print(\"You Win\")\n",
    "elif computer_choice > choice:\n",
    "  print(\"Computer Win\")\n",
    "else:\n",
    "  print(\"Invalid You Lose\")"
   ]
  },
  {
   "cell_type": "code",
   "execution_count": 13,
   "metadata": {},
   "outputs": [
    {
     "name": "stdout",
     "output_type": "stream",
     "text": [
      "3.1415\n"
     ]
    }
   ],
   "source": [
    "import my_module\n",
    "print(my_module.pi)"
   ]
  },
  {
   "cell_type": "code",
   "execution_count": 17,
   "metadata": {},
   "outputs": [
    {
     "name": "stdout",
     "output_type": "stream",
     "text": [
      "0.8374603659789032\n",
      "0.8374603659789032\n",
      "8\n"
     ]
    }
   ],
   "source": [
    "import random\n",
    "random_float=random.random() # 0.00 - 0.9999\n",
    "print(random_float)\n",
    "\n",
    "random_float*5\n",
    "print(random_float)\n",
    "\n",
    "love_score=random.randint(1,100)\n",
    "print(love_score)\n"
   ]
  },
  {
   "cell_type": "code",
   "execution_count": 30,
   "metadata": {},
   "outputs": [
    {
     "name": "stdout",
     "output_type": "stream",
     "text": [
      "Heads or Tails\n",
      "Heads\n"
     ]
    }
   ],
   "source": [
    "import random\n",
    "print(\"Heads or Tails\")\n",
    "random_choice=random.randint(0,1)\n",
    "if random_choice==1:\n",
    "  print(\"Heads\")\n",
    "else:\n",
    "  print(\"Tails\")"
   ]
  },
  {
   "cell_type": "markdown",
   "metadata": {},
   "source": [
    "Index Error "
   ]
  },
  {
   "cell_type": "code",
   "execution_count": 31,
   "metadata": {},
   "outputs": [
    {
     "name": "stdout",
     "output_type": "stream",
     "text": [
      "[['apple', 'bananna', 'grapes'], ['spinach', 'Tomatos']]\n"
     ]
    }
   ],
   "source": [
    "fruits=[\"apple\",\"bananna\",\"grapes\"]\n",
    "vegitables=[\"spinach\",\"Tomatos\"]\n",
    "combined=[fruits, vegitables]\n",
    "\n",
    "print(combined)"
   ]
  },
  {
   "cell_type": "code",
   "execution_count": 38,
   "metadata": {},
   "outputs": [
    {
     "name": "stdout",
     "output_type": "stream",
     "text": [
      "Give Position to Hide Treasure\n",
      "[['0', '0', '0'], ['0', '0', '0'], ['0', 'X', '0']]\n"
     ]
    }
   ],
   "source": [
    "l1=[\"0\",\"0\",\"0\"]\n",
    "l2=[\"0\",\"0\",\"0\"]\n",
    "l3=[\"0\",\"0\",\"0\"]\n",
    "map=[l1,l2,l3]\n",
    "print(\"Give Position to Hide Treasure\")\n",
    "position=input()\n",
    "letter=position[0].lower()\n",
    "abc=[\"a\",\"b\",\"c\"]\n",
    "letter_index=abc.index(letter)\n",
    "number=int(position[1])\n",
    "map[number-1][letter_index]=\"X\"\n",
    "print(map)"
   ]
  }
 ],
 "metadata": {
  "kernelspec": {
   "display_name": "Python 3",
   "language": "python",
   "name": "python3"
  },
  "language_info": {
   "codemirror_mode": {
    "name": "ipython",
    "version": 3
   },
   "file_extension": ".py",
   "mimetype": "text/x-python",
   "name": "python",
   "nbconvert_exporter": "python",
   "pygments_lexer": "ipython3",
   "version": "3.11.4"
  }
 },
 "nbformat": 4,
 "nbformat_minor": 2
}
