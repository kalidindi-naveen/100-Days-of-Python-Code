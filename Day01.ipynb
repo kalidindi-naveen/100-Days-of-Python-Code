{
 "cells": [
  {
   "cell_type": "code",
   "execution_count": 1,
   "metadata": {},
   "outputs": [
    {
     "name": "stdout",
     "output_type": "stream",
     "text": [
      "Welcome to Band Name Generator\n",
      "Brand Name can be :: NK Rocky\n"
     ]
    }
   ],
   "source": [
    "print(\"Welcome to Band Name Generator\")\n",
    "name_city=input(\"Enter Name of City you born ??\")\n",
    "name_pet=input(\"Enter Name of your Pet ??\")\n",
    "print(\"Brand Name can be ::\",name_city,name_pet)"
   ]
  },
  {
   "cell_type": "code",
   "execution_count": 2,
   "metadata": {},
   "outputs": [
    {
     "name": "stdout",
     "output_type": "stream",
     "text": [
      "A 'single quote' inside a double quote\n",
      "A \"double quote\" inside a single quote\n",
      "Alternatively you can just \"escape\" the quote\n"
     ]
    }
   ],
   "source": [
    "print(\"A 'single quote' inside a double quote\")\n",
    "print('A \"double quote\" inside a single quote')\n",
    "print(\"Alternatively you can just \\\"escape\\\" the quote\")"
   ]
  },
  {
   "cell_type": "code",
   "execution_count": 3,
   "metadata": {},
   "outputs": [
    {
     "name": "stdout",
     "output_type": "stream",
     "text": [
      "Hi\n",
      "Hii\n",
      "Hi\n"
     ]
    }
   ],
   "source": [
    "print(\"Hi\\nHii\\nHi\")"
   ]
  },
  {
   "cell_type": "code",
   "execution_count": 4,
   "metadata": {},
   "outputs": [
    {
     "name": "stdout",
     "output_type": "stream",
     "text": [
      "HiHi\n",
      "Hi Hi\n",
      "Hi Hi\n"
     ]
    }
   ],
   "source": [
    "print(\"Hi\"+\"Hi\")\n",
    "print(\"Hi \"+\"Hi\")\n",
    "print(\"Hi\"+\" \"+\"Hi\")"
   ]
  },
  {
   "cell_type": "markdown",
   "metadata": {},
   "source": [
    "Few Errors we came across\n",
    "\n",
    "SyntaxError\n",
    "IndentationError"
   ]
  },
  {
   "cell_type": "code",
   "execution_count": 5,
   "metadata": {},
   "outputs": [
    {
     "name": "stdout",
     "output_type": "stream",
     "text": [
      "Hello NK\n"
     ]
    }
   ],
   "source": [
    "print(\"Hello \"+input(\"Enter Name\"))"
   ]
  },
  {
   "cell_type": "code",
   "execution_count": 6,
   "metadata": {},
   "outputs": [
    {
     "name": "stdout",
     "output_type": "stream",
     "text": [
      "6\n",
      "['N', 'a', 'v', 'e', 'e', 'n']\n"
     ]
    }
   ],
   "source": [
    "print(len(\"Naveen\"))\n",
    "print(list(\"Naveen\"))"
   ]
  }
 ],
 "metadata": {
  "kernelspec": {
   "display_name": "Python 3",
   "language": "python",
   "name": "python3"
  },
  "language_info": {
   "codemirror_mode": {
    "name": "ipython",
    "version": 3
   },
   "file_extension": ".py",
   "mimetype": "text/x-python",
   "name": "python",
   "nbconvert_exporter": "python",
   "pygments_lexer": "ipython3",
   "version": "3.11.4"
  }
 },
 "nbformat": 4,
 "nbformat_minor": 2
}
