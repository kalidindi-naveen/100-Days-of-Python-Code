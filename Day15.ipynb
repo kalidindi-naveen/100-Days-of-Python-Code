{
 "cells": [
  {
   "cell_type": "code",
   "execution_count": 4,
   "metadata": {},
   "outputs": [
    {
     "name": "stdout",
     "output_type": "stream",
     "text": [
      "{'a': 10, 'b': 20}\n",
      "a 10\n",
      "b 20\n"
     ]
    }
   ],
   "source": [
    "d={\"a\":10,\"b\":20}\n",
    "print(d)\n",
    "for k,v in d.items():\n",
    "  print(k,v)"
   ]
  },
  {
   "cell_type": "code",
   "execution_count": null,
   "metadata": {},
   "outputs": [],
   "source": [
    "\"\"\"\n",
    "3 flavors\n",
    "\n",
    "Espresso -- 50 water,18 coffe, 1.50 $\n",
    "Latte -- 200 water, 24 coffe, 150 milk, 2.50 $\n",
    "Cappuccino -- 250 water, 24 coffe, 100 milk, 3.00 $\n",
    "Resources -- 300 water, 200 milk, 100 coffe\n",
    "\n",
    "4 types of coins\n",
    "\n",
    "Penny   -- 1 cent   -- 0.01 $\n",
    "Nickel  -- 5 cents  -- 0.05 $\n",
    "Dime    -- 10 cents -- 0.10 $\n",
    "Quarter -- 25 cents -- 0.25 $\n",
    "\"\"\"\n",
    "'''\n",
    "1: print report\n",
    "2: check resources sufficient?\n",
    "3: Process coins\n",
    "4: Check transaction successful?\n",
    "5: Make Coffe\n",
    "'''"
   ]
  },
  {
   "cell_type": "code",
   "execution_count": 9,
   "metadata": {},
   "outputs": [
    {
     "name": "stdout",
     "output_type": "stream",
     "text": [
      "what would you like to have espresso/latte/cappuccino\n",
      "Ammount in Counter ::0\n",
      "{'milk': 50, 'water': 100, 'coffe': 76, 'money': 0}\n",
      "what would you like to have espresso/latte/cappuccino\n",
      "Machine OFF!! for Maintenance\n"
     ]
    }
   ],
   "source": [
    "from coffe_machine_data import data, menu\n",
    "start_machine = True\n",
    "profit = 0\n",
    "\n",
    "def money_enough(total_coins,user_input):\n",
    "  if total_coins >= menu[user_input][\"cost\"]:\n",
    "    return True\n",
    "  else:\n",
    "    return False\n",
    "\n",
    "def check_enough_ingredients(user_input):\n",
    "  for k in menu[user_input][\"ingredients\"].keys():\n",
    "    if data[k] < menu[user_input][\"ingredients\"][k]:\n",
    "      return False\n",
    "  return True\n",
    "\n",
    "def reduce_resources(user_input):\n",
    "  for k in menu[user_input][\"ingredients\"].keys():\n",
    "    data[k] -= menu[user_input][\"ingredients\"][k]\n",
    "\n",
    "while start_machine:\n",
    "  print(\"what would you like to have espresso/latte/cappuccino\")\n",
    "  user_input = input().lower()\n",
    "  if user_input == \"report\":\n",
    "    print(f\"Ammount in Counter ::{profit}\")\n",
    "    print(data)\n",
    "  elif user_input == \"off\":\n",
    "    start_machine = False\n",
    "    print(\"Machine OFF!! for Maintenance\")\n",
    "  else:\n",
    "    enough_ingredients = check_enough_ingredients(user_input)\n",
    "    if enough_ingredients:\n",
    "      reduce_resources(user_input)\n",
    "      print(f\"Your Coffe Ready!, Here is your {user_input}\")\n",
    "\n",
    "      print(\"Please insert coins...\")\n",
    "      quaters=int(input(\"Please insert Quaters::\")) * 0.01\n",
    "      dimes=int(input(\"Please insert Dimes::\")) * 0.05\n",
    "      nickles=int(input(\"Please insert Nickles::\")) * 0.10\n",
    "      pennies=int(input(\"Please insert Pennies::\")) * 0.25\n",
    "      total_coins=quaters+dimes+nickles+pennies\n",
    "\n",
    "      if money_enough(total_coins,user_input):\n",
    "        order_drink_cost=menu[user_input][\"cost\"]\n",
    "        change_amount = total_coins-order_drink_cost\n",
    "        profit += order_drink_cost\n",
    "        print(f\"Here is {change_amount} in change\")\n",
    "      else:\n",
    "        print(f\"Money is not Suffient to Buy {user_input}\")\n",
    "    \n",
    "    else:\n",
    "      start_machine = False\n",
    "      print(f\"Insufficient ingredients to Make {user_input}\")\n"
   ]
  }
 ],
 "metadata": {
  "kernelspec": {
   "display_name": "Python 3",
   "language": "python",
   "name": "python3"
  },
  "language_info": {
   "codemirror_mode": {
    "name": "ipython",
    "version": 3
   },
   "file_extension": ".py",
   "mimetype": "text/x-python",
   "name": "python",
   "nbconvert_exporter": "python",
   "pygments_lexer": "ipython3",
   "version": "3.11.4"
  }
 },
 "nbformat": 4,
 "nbformat_minor": 2
}
