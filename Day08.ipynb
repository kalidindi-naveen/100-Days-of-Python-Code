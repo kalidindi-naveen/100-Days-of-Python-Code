{
 "cells": [
  {
   "cell_type": "code",
   "execution_count": 3,
   "metadata": {},
   "outputs": [
    {
     "name": "stdout",
     "output_type": "stream",
     "text": [
      "           \n",
      " ,adPPYba, ,adPPYYba,  ,adPPYba, ,adPPYba, ,adPPYYba, 8b,dPPYba,  \n",
      "a8\"     \"\" \"\"     `Y8 a8P_____88 I8[    \"\" \"\"     `Y8 88P'   \"Y8  \n",
      "8b         ,adPPPPP88 8PP\"  `\"Y8ba,  ,adPPPPP88 88          \n",
      "\"8a,   ,aa 88,    ,88 \"8b,   ,aa aa    ]8I 88,    ,88 88          \n",
      " `\"Ybbd8\"' `\"8bbdP\"Y8  `\"Ybbd8\"' `\"YbbdP\"' `\"8bbdP\"Y8 88   \n",
      "            88             88                                 \n",
      "           \"\"             88                                 \n",
      "                          88                                 \n",
      " ,adPPYba, 88 8b,dPPYba,  88,dPPYba,   ,adPPYba, 8b,dPPYba,  \n",
      "a8\"     \"\" 88 88P'    \"8a 88P'    \"8a a8P_____88 88P'   \"Y8  \n",
      "8b         88 88       d8 88       88 8PP\" 88          \n",
      "\"8a,   ,aa 88 88b,   ,a8\" 88       88 \"8b,   ,aa 88          \n",
      " `\"Ybbd8\"' 88 88`YbbdP\"'  88       88  `\"Ybbd8\"' 88          \n",
      "              88                                             \n",
      "              88           \n",
      "\n",
      "Type 'encode' to encrypt, Type 'decode' to decrypt:\n",
      "Type Your Message\n",
      "Type shift number\n",
      "Here the encoded result: qnuuxlxmnab\n",
      "Type 'yes' if you want to go again, else type 'no'\n",
      "Type 'encode' to encrypt, Type 'decode' to decrypt:\n",
      "Type Your Message\n",
      "Type shift number\n",
      "Type 'yes' if you want to go again, else type 'no'\n"
     ]
    }
   ],
   "source": [
    "import caesar_cipher_logo as cipher\n",
    "from caesar_cipher_data import alphabet\n",
    "\n",
    "print(cipher.logo)\n",
    "\n",
    "start_process=True\n",
    "\n",
    "def encode(user_msg,shift_amount):\n",
    "  end_text = \"\"\n",
    "  for char in user_msg:\n",
    "    if char in alphabet:\n",
    "      position = alphabet.index(char)\n",
    "      new_position = position + shift_amount\n",
    "      end_text += alphabet[new_position]\n",
    "    else:\n",
    "      end_text += char\n",
    "  return end_text\n",
    "\n",
    "def decode(user_msg,shift_amount):\n",
    "  end_text = \"\"\n",
    "  for char in user_msg:\n",
    "    if char in alphabet:\n",
    "      position = alphabet.index(char)\n",
    "      new_position = position - shift_amount\n",
    "      end_text += alphabet[new_position]\n",
    "    else:\n",
    "      end_text += char\n",
    "  return end_text\n",
    "\n",
    "while start_process:\n",
    "  print(\"Type 'encode' to encrypt, Type 'decode' to decrypt:\")\n",
    "  user_input=input().lower()\n",
    "  print(\"Type Your Message\")\n",
    "  user_msg=input().lower()  \n",
    "  print(\"Type shift number\")\n",
    "  shift_number=int(input())\n",
    "  shift_number%=26\n",
    "  if user_input==\"encode\":\n",
    "    print(f\"Here the encoded result: {encode(user_msg,shift_number)}\")\n",
    "  if user_input==\"decode\":\n",
    "    print(f\"Here the encoded result: {decode(user_msg,shift_number)}\")\n",
    "  print(\"Type 'yes' if you want to go again, else type 'no'\")\n",
    "  stop_process=input().lower()\n",
    "  if stop_process=='no':\n",
    "    start_process=False\n",
    "    print(\"Good Bye!!!\")\n",
    "\n",
    "# encode: hellocoders -- qnuuxlxmnab with shift 9"
   ]
  },
  {
   "cell_type": "code",
   "execution_count": 21,
   "metadata": {},
   "outputs": [
    {
     "name": "stdout",
     "output_type": "stream",
     "text": [
      "Its Not prime number\n"
     ]
    }
   ],
   "source": [
    "def prime_check(number):\n",
    "  is_prime=True\n",
    "  for i in range(2,number):\n",
    "    if number%i==0:\n",
    "      is_prime=False\n",
    "      break\n",
    "  if is_prime:\n",
    "    print(\"Its prime number\")\n",
    "  else:\n",
    "    print(\"Its Not prime number\")\n",
    "\n",
    "prime_check(16)"
   ]
  },
  {
   "cell_type": "code",
   "execution_count": 13,
   "metadata": {},
   "outputs": [
    {
     "name": "stdout",
     "output_type": "stream",
     "text": [
      "Total Area can be covered 2\n"
     ]
    }
   ],
   "source": [
    "import math\n",
    "\n",
    "def wall_paint(h,w,c):\n",
    "  return math.ceil((h*w)/c)\n",
    "\n",
    "h=int(input(\"Height of wall\"))\n",
    "w=int(input(\"Width of wall\"))\n",
    "coverage=5\n",
    "no_of_cans=wall_paint(h,w,coverage)\n",
    "print(f\"Total Area can be covered {no_of_cans}\")"
   ]
  }
 ],
 "metadata": {
  "kernelspec": {
   "display_name": "Python 3",
   "language": "python",
   "name": "python3"
  },
  "language_info": {
   "codemirror_mode": {
    "name": "ipython",
    "version": 3
   },
   "file_extension": ".py",
   "mimetype": "text/x-python",
   "name": "python",
   "nbconvert_exporter": "python",
   "pygments_lexer": "ipython3",
   "version": "3.11.4"
  }
 },
 "nbformat": 4,
 "nbformat_minor": 2
}
