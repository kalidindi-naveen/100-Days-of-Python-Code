{
 "cells": [
  {
   "cell_type": "code",
   "execution_count": 13,
   "metadata": {},
   "outputs": [
    {
     "name": "stdout",
     "output_type": "stream",
     "text": [
      "\n",
      "\n",
      "*******************************************************************************\n",
      "          |                   |                  |                     |\n",
      " _________|________________.=\"\"_;=.______________|_____________________|_______\n",
      "|                   |  ,-\"_,=\"\"     `\"=.|                  |\n",
      "|___________________|__\"=._o`\"-._        `\"=.______________|___________________\n",
      "          |                `\"=._o`\"=._      _`\"=._                     |\n",
      " _________|_____________________:=._o \"=._.\"_.-=\"'\"=.__________________|_______\n",
      "|                   |    __.--\" , ; `\"=._o.\" ,-\"\"\"-._ \".   |\n",
      "|___________________|_._\"  ,. .` ` `` ,  `\"-._\"-._   \". '__|___________________\n",
      "          |           |o`\"=._` , \"` `; .\". ,  \"-._\"-._; ;              |\n",
      " _________|___________| ;`-.o`\"=._; .\" ` '`.\"\\` . \"-._ /_______________|_______\n",
      "|                   | |o;    `\"-.o`\"=._``  '` \" ,__.--o;   |\n",
      "|___________________|_| ;     (#) `-.o `\"=.`_.--\"_o.-; ;___|___________________\n",
      "____/______/______/___|o;._    \"      `\".o|o_.--\"    ;o;____/______/______/____\n",
      "/______/______/______/_\"=._o--._        ; | ;        ; ;/______/______/______/_\n",
      "____/______/______/______/__\"=._o--._   ;o|o;     _._;o;____/______/______/____\n",
      "/______/______/______/______/____\"=._o._; | ;_.--\"o.--\"_/______/______/______/_\n",
      "____/______/______/______/______/_____\"=.o|o_.--\"\"___/______/______/______/____\n",
      "/______/______/______/______/______/______/______/______/______/______/______/\n",
      "*******************************************************************************\n",
      "\n",
      "\n",
      "Welcome to Treasure Hunt\n",
      "Your Mission is to find the treasure.\n",
      "\n",
      "You're at cross road. where do you want to go? Type 'Left' or 'Right'\n",
      "You came to Lake. There is an Island in the middle of the lake. Type 'Wait' or 'Swim' to go there.\n",
      "You reached to Island. There 3 doors infront of you Pick One. 'Red','blue','yellow'\n",
      "Room Full of Snakes, Game Over\n"
     ]
    }
   ],
   "source": [
    "print('''\n",
    "\n",
    "*******************************************************************************\n",
    "          |                   |                  |                     |\n",
    " _________|________________.=\"\"_;=.______________|_____________________|_______\n",
    "|                   |  ,-\"_,=\"\"     `\"=.|                  |\n",
    "|___________________|__\"=._o`\"-._        `\"=.______________|___________________\n",
    "          |                `\"=._o`\"=._      _`\"=._                     |\n",
    " _________|_____________________:=._o \"=._.\"_.-=\"'\"=.__________________|_______\n",
    "|                   |    __.--\" , ; `\"=._o.\" ,-\"\"\"-._ \".   |\n",
    "|___________________|_._\"  ,. .` ` `` ,  `\"-._\"-._   \". '__|___________________\n",
    "          |           |o`\"=._` , \"` `; .\". ,  \"-._\"-._; ;              |\n",
    " _________|___________| ;`-.o`\"=._; .\" ` '`.\"\\` . \"-._ /_______________|_______\n",
    "|                   | |o;    `\"-.o`\"=._``  '` \" ,__.--o;   |\n",
    "|___________________|_| ;     (#) `-.o `\"=.`_.--\"_o.-; ;___|___________________\n",
    "____/______/______/___|o;._    \"      `\".o|o_.--\"    ;o;____/______/______/____\n",
    "/______/______/______/_\"=._o--._        ; | ;        ; ;/______/______/______/_\n",
    "____/______/______/______/__\"=._o--._   ;o|o;     _._;o;____/______/______/____\n",
    "/______/______/______/______/____\"=._o._; | ;_.--\"o.--\"_/______/______/______/_\n",
    "____/______/______/______/______/_____\"=.o|o_.--\"\"___/______/______/______/____\n",
    "/______/______/______/______/______/______/______/______/______/______/______/\n",
    "*******************************************************************************\n",
    "''')\n",
    "print(\"Welcome to Treasure Hunt\")\n",
    "print(\"Your Mission is to find the treasure.\")\n",
    "print(\"You're at cross road. where do you want to go? Type 'Left' or 'Right'\")\n",
    "way=input()\n",
    "if way.lower()==\"left\":\n",
    "    print(\"You came to Lake. There is an Island in the middle of the lake. Type 'Wait' or 'Swim' to go there.\")\n",
    "    decision=input()\n",
    "    if decision.lower()==\"wait\":\n",
    "        print(\"You reached to Island. There 3 doors infront of you Pick One. 'Red','blue','yellow'\")\n",
    "        door=input()\n",
    "        if(door.lower()==\"red\"):\n",
    "            print(\"Room Full of Fire, Game Over\")\n",
    "        elif door.lower()==\"blue\":\n",
    "          print(\"Hurray Won Game\")\n",
    "        else:\n",
    "          print(\"Room Full of Snakes, Game Over\")\n",
    "    else:\n",
    "        print(\"Wrong Decision, Died Inside Water, Game Over\")\n",
    "else:\n",
    "    print(\"Wrong Rote, Game Over\")"
   ]
  },
  {
   "cell_type": "code",
   "execution_count": 14,
   "metadata": {},
   "outputs": [
    {
     "name": "stdout",
     "output_type": "stream",
     "text": [
      "Welcome to Roller Coster\n",
      "Not allowed\n"
     ]
    }
   ],
   "source": [
    "print(\"Welcome to Roller Coster\")\n",
    "height=int(input(\"Enter Height of Person\"))\n",
    "if height > 120:\n",
    "  print(\"You are allowed\")\n",
    "else:\n",
    "  print(\"Not allowed\")"
   ]
  },
  {
   "cell_type": "markdown",
   "metadata": {},
   "source": [
    "Comparision Operators\n",
    ">, <, >=, <=, ==, != "
   ]
  },
  {
   "cell_type": "code",
   "execution_count": 15,
   "metadata": {},
   "outputs": [
    {
     "name": "stdout",
     "output_type": "stream",
     "text": [
      "Even or Odd Number\n",
      "Even Number\n"
     ]
    }
   ],
   "source": [
    "print(\"Even or Odd Number\")\n",
    "number=int(input(\"Enter Number\"))\n",
    "if number%2 ==0:\n",
    "  print(\"Even Number\")\n",
    "else:\n",
    "  print(\"Odd Number\")"
   ]
  },
  {
   "cell_type": "code",
   "execution_count": 24,
   "metadata": {},
   "outputs": [
    {
     "name": "stdout",
     "output_type": "stream",
     "text": [
      "Welcome to Roller Coster\n",
      "You are allowed\n",
      "Pay $7\n",
      "Your bill is ::  10\n"
     ]
    }
   ],
   "source": [
    "print(\"Welcome to Roller Coster\")\n",
    "height=int(input(\"Enter Height of Person\"))\n",
    "if height > 120:\n",
    "    print(\"You are allowed\")\n",
    "    ticket=0;\n",
    "    age=int(input(\"Enter Age of Person\"))\n",
    "    if age < 12:\n",
    "        print(\"Pay $7\")\n",
    "        ticket=7\n",
    "    elif age >= 12 and age <=18:\n",
    "        print(\"Pay $10\")\n",
    "        ticket=10\n",
    "    else:\n",
    "        print(\"Pay $12\")\n",
    "        ticket=12\n",
    "    wantPicture=input(\"What Photo ?? 'Y' or 'N\")\n",
    "    if wantPicture.lower() == \"y\":\n",
    "        ticket+=3\n",
    "    print(\"Your bill is :: \", ticket)\n",
    "else:\n",
    "    print(\"Not allowed\")"
   ]
  },
  {
   "cell_type": "code",
   "execution_count": 27,
   "metadata": {},
   "outputs": [
    {
     "name": "stdout",
     "output_type": "stream",
     "text": [
      "Pizza Program\n",
      "Total Bill: $29\n"
     ]
    }
   ],
   "source": [
    "print(\"Pizza Program\")\n",
    "size=input(\"What Size ?? 'S' or 'M' or 'L'\").lower()\n",
    "add_pepper=input(\"Add pepper?? 'Y' or 'N'\").lower()\n",
    "add_extra_cheese=input(\"Add extra cheese?? 'Y' or 'N'\").lower()\n",
    "bill=0\n",
    "if size=='s':\n",
    "    bill+=15\n",
    "    if add_pepper=='y':\n",
    "        bill+=2\n",
    "elif size=='m':\n",
    "    bill+=20\n",
    "    if add_pepper=='y':\n",
    "        bill+=3\n",
    "else:\n",
    "    bill+=25\n",
    "    if add_pepper=='y':\n",
    "        bill+=3\n",
    "if add_extra_cheese=='y':\n",
    "    bill+=1\n",
    "print(f\"Total Bill: ${bill}\")"
   ]
  },
  {
   "cell_type": "markdown",
   "metadata": {},
   "source": [
    "Logical Operators\n",
    "\n",
    "and, or, not"
   ]
  },
  {
   "cell_type": "code",
   "execution_count": 28,
   "metadata": {},
   "outputs": [
    {
     "name": "stdout",
     "output_type": "stream",
     "text": [
      "Welcome to Roller Coster\n",
      "You are allowed\n",
      "Free Ride\n",
      "Your bill is ::  0\n"
     ]
    }
   ],
   "source": [
    "print(\"Welcome to Roller Coster\")\n",
    "height=int(input(\"Enter Height of Person\"))\n",
    "if height > 120:\n",
    "    print(\"You are allowed\")\n",
    "    ticket=0;\n",
    "    age=int(input(\"Enter Age of Person\"))\n",
    "    if age < 12:\n",
    "        print(\"Pay $7\")\n",
    "        ticket=7\n",
    "    elif age >= 12 and age <=18:\n",
    "        print(\"Pay $10\")\n",
    "        ticket=10\n",
    "    elif age >=45 and age<=55:\n",
    "        print(\"Free Ride\")\n",
    "    else:\n",
    "        print(\"Pay $12\")\n",
    "        ticket=12\n",
    "    wantPicture=input(\"What Photo ?? 'Y' or 'N\")\n",
    "    if wantPicture.lower() == \"y\":\n",
    "        ticket+=3\n",
    "    print(\"Your bill is :: \", ticket)\n",
    "else:\n",
    "    print(\"Not allowed\")"
   ]
  },
  {
   "cell_type": "code",
   "execution_count": 43,
   "metadata": {},
   "outputs": [
    {
     "name": "stdout",
     "output_type": "stream",
     "text": [
      "Love Calculator\n",
      "73\n",
      "score is 73\n"
     ]
    }
   ],
   "source": [
    "print(\"Love Calculator\")\n",
    "name1=input(\"Enter Name\").lower()\n",
    "name2=input(\"Enter Name\").lower()\n",
    "l=name1+name2\n",
    "l=list(l)\n",
    "t,r,u,e=0,0,0,0\n",
    "l1,o,v,e=0,0,0,0\n",
    "for i in range(len(l)):\n",
    "    if l[i]=='t':\n",
    "        t+=1\n",
    "    elif l[i]=='r':\n",
    "        r+=1\n",
    "    elif l[i]=='u':\n",
    "        u+=1\n",
    "    elif l[i]=='e':\n",
    "        e+=1\n",
    "    elif l[i]=='l':\n",
    "        l1+=1\n",
    "    elif l[i]=='o':\n",
    "        o+=1\n",
    "    elif l[i]=='v':\n",
    "        v+=1\n",
    "    elif l[i]=='e':\n",
    "        e+=1\n",
    "true=t+r+u+e\n",
    "love=l1+o+v+e\n",
    "score=int(str(true)+str(love))\n",
    "print(score)\n",
    "if score<10 and score>90:\n",
    "    print(f\"score is {score}, you can go together like coke and mentos.\")\n",
    "elif score>=10 and score <=50:\n",
    "    print(f\"score is {score}, you are alright together.\")\n",
    "else:\n",
    "    print(f\"score is {score}\")"
   ]
  },
  {
   "cell_type": "code",
   "execution_count": 44,
   "metadata": {},
   "outputs": [
    {
     "name": "stdout",
     "output_type": "stream",
     "text": [
      "Love Calculator\n",
      "Your love score is 12.\n",
      "Your score is 12.\n"
     ]
    }
   ],
   "source": [
    "print(\"Love Calculator\")\n",
    "name1 = input(\"Enter the first name: \").lower()\n",
    "name2 = input(\"Enter the second name: \").lower()\n",
    "\n",
    "combined_names = name1 + name2\n",
    "\n",
    "t = combined_names.count('t')\n",
    "r = combined_names.count('r')\n",
    "u = combined_names.count('u')\n",
    "e = combined_names.count('e')\n",
    "l = combined_names.count('l')\n",
    "o = combined_names.count('o')\n",
    "v = combined_names.count('v')\n",
    "\n",
    "true = t + r + u + e\n",
    "love = l + o + v + e\n",
    "\n",
    "score = int(f\"{true}{love}\")\n",
    "print(f\"Your love score is {score}.\")\n",
    "\n",
    "if score < 10 or score > 90:\n",
    "    print(f\"Your score is {score}, you go together like coke and mentos.\")\n",
    "elif 40 <= score <= 50:\n",
    "    print(f\"Your score is {score}, you are alright together.\")\n",
    "else:\n",
    "    print(f\"Your score is {score}.\")"
   ]
  }
 ],
 "metadata": {
  "kernelspec": {
   "display_name": "Python 3",
   "language": "python",
   "name": "python3"
  },
  "language_info": {
   "codemirror_mode": {
    "name": "ipython",
    "version": 3
   },
   "file_extension": ".py",
   "mimetype": "text/x-python",
   "name": "python",
   "nbconvert_exporter": "python",
   "pygments_lexer": "ipython3",
   "version": "3.11.4"
  }
 },
 "nbformat": 4,
 "nbformat_minor": 2
}
